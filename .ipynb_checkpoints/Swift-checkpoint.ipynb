{
 "cells": [
  {
   "cell_type": "markdown",
   "metadata": {},
   "source": [
    "What is __SWIFT__?"
   ]
  },
  {
   "cell_type": "markdown",
   "metadata": {},
   "source": [
    "Created by Apple in __2014__. Backed up by one of the most influential tech companies in the world, Swift is set to become the dominant language for iOS development and beyond."
   ]
  },
  {
   "cell_type": "markdown",
   "metadata": {},
   "source": [
    "Swift is a general-purpose, multi-paradigm, compiled programming language(directly translated program) developed by Apple Inc. for iOS, iPadOS, macOS, watchOS, tvOS, Linux, and z/OS."
   ]
  },
  {
   "cell_type": "markdown",
   "metadata": {},
   "source": [
    "What it means with general-purpose is, it's designed to be used for writing software in a variety of application domains. That is it does not include language constructs designed to be used within a specific application domain."
   ]
  },
  {
   "cell_type": "markdown",
   "metadata": {},
   "source": [
    "A programming paradigm is a style, or “way,” of programming.<br>With that said, there are four major types of programming paradigms; namely: Imperative, Functional, Logical and Object-Oriented."
   ]
  },
  {
   "cell_type": "markdown",
   "metadata": {},
   "source": [
    "object oriented"
   ]
  },
  {
   "cell_type": "markdown",
   "metadata": {},
   "source": [
    "where power and heat are real concerns. It’s a challenge to optimize applications for slower, more efficient processors with less memory.\n",
    "This is a bit of problem for data scientists and machine learning researchers. "
   ]
  },
  {
   "cell_type": "markdown",
   "metadata": {},
   "source": [
    "__Fast__. Swift was built with performance in mind. Not only does its simple syntax and hand-holding help you develop faster, it also lives up to its name: Swift is 2.6x faster than Objective-C and 8.4x faster than Python.<br>\n",
    "\n",
    "__Memory management__. Automatic Reference Counting manages the memory apps automatically.<br>\n",
    "\n",
    "since its a compiled languages it's converted directly into machine code that the processor can execute. As a result, they tend to be __faster__ and more efficient to execute than interpreted languages. They also give the developer more control over hardware aspects, like __memory management__ and __CPU__ usage."
   ]
  },
  {
   "cell_type": "markdown",
   "metadata": {},
   "source": [
    "__Created__ by Apple in 2014. Backed up by one of the most influential tech companies in the world, Swift is set to become the dominant language for iOS development and beyond.<br>\n",
    "\n",
    "__Open source__. Swift creators acknowledged the fact that in order to build a defining programming language, the technology needs to be open for all. So, within its three years of existence, Swift acquired a large supportive community and an abundance of third-party tools.<br>\n",
    "\n",
    "__Safe__. Its syntax encourages you to write clean and consistent code, it allows developers to find bugs quickly and fix them. Swift provides safeguards to prevent errors and improve readability.<br>"
   ]
  },
  {
   "cell_type": "markdown",
   "metadata": {},
   "source": [
    "__Objective-C__ is in competition with Swift, it's the primary programming language you use when writing software for OS X and iOS."
   ]
  },
  {
   "cell_type": "markdown",
   "metadata": {},
   "source": [
    "supports inferred types to make code cleaner and less prone to mistakes, and modules eliminate headers and provide namespaces. Memory is managed automatically, and you don’t even need to type semi-colons. Swift also borrows from other languages, for instance named parameters brought forward from Objective-C are expressed in a clean syntax that makes APIs in Swift easy to read and maintain.<br>\n",
    "Swift minimizes unsafe code and endeavors to catch errors before the code can be run. \n",
    "\n",
    "The features of Swift are designed to work together to create a language that is powerful. Some additional features of Swift include:\n",
    "\n",
    "Closures unified with function pointers\n",
    "Tuples and multiple return values\n",
    "Generics\n",
    "Fast and concise iteration over a range or collection\n",
    "Structs that support methods, extensions, and protocols\n",
    "Functional programming patterns, e.g., map and filter\n",
    "Powerful error handling built-in\n",
    "Advanced control flow with do, guard, defer, and repeat keywords"
   ]
  },
  {
   "cell_type": "markdown",
   "metadata": {},
   "source": [
    "Swift __IDE__:\n",
    "   - AppCode\n",
    "   - CodeRunner\n",
    "   - Atom \n",
    "   - Sublimetext 3"
   ]
  },
  {
   "cell_type": "markdown",
   "metadata": {},
   "source": [
    "a tool that apple has provided for people to build applications.latest version is 11.4.1\n",
    "- be able to create user interface\n",
    "- tesst apps\n",
    "- create apps for iPhone, iPad, Mac, Apple Watch, and Apple TV.\n",
    "- faster version IDE\n",
    "- some features\n",
    "    - Highlight the current line\n",
    "    - Image and color literals in Swift code\n",
    "    - Code completion for images<br>\n",
    "    \n",
    ". __variables__ need to be declared before being used the key __word__var__\n",
    "is used to declare a new word, following the key word comes the variable name. example var box = \"red\" the \\n is saying there is a new line associated with that print statement.\n",
    "camel is the commen way of typing a variable.\n",
    "__constants__ is a variable that can't be re assigned, uses __'let'__ key word."
   ]
  },
  {
   "cell_type": "markdown",
   "metadata": {},
   "source": [
    "__Drawbacks__<br>\n",
    " - __Unstable language__-lack of backward compatibility, unstable due to major changes brought in with newer versions.Shifting a project to the newer Swift version time consuming and costly.<br>\n",
    " - __Lack of native libs__- Almost all Swift libraries don’t work with different versions of Swift.<br>\n",
    " - __A limited number of developers__"
   ]
  },
  {
   "cell_type": "code",
   "execution_count": null,
   "metadata": {},
   "outputs": [],
   "source": []
  }
 ],
 "metadata": {
  "kernelspec": {
   "display_name": "Python 3",
   "language": "python",
   "name": "python3"
  },
  "language_info": {
   "codemirror_mode": {
    "name": "ipython",
    "version": 3
   },
   "file_extension": ".py",
   "mimetype": "text/x-python",
   "name": "python",
   "nbconvert_exporter": "python",
   "pygments_lexer": "ipython3",
   "version": "3.7.4"
  }
 },
 "nbformat": 4,
 "nbformat_minor": 4
}
