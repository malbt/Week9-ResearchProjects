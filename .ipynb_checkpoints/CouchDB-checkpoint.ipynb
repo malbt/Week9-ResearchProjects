{
 "cells": [
  {
   "cell_type": "markdown",
   "metadata": {},
   "source": [
    "# CouchDB"
   ]
  },
  {
   "cell_type": "markdown",
   "metadata": {},
   "source": [
    "__CouchDB__ is an open source non relational database(NoSQL) that collects and stores data with JSON document.It is a document-oriented database and within each document fields are stored as key-value maps. Fields can be either a simple key/value pair, list, or map.<br>Each document that is stored in the database is given a document-level unique identifier __(_id)__ as well as a revision __(_rev)__ number for each change that is made and saved to the database.It is returned when you make requests and is used to prevent conflicts from multiple users updating the same document."
   ]
  },
  {
   "cell_type": "markdown",
   "metadata": {},
   "source": [
    "__CouchDb__ <br>\n",
    " - is written in Erlang(a general-purpose programming language and runtime environment), a functional programming alnguage with a focus on writting fault tolerant and highly concurrent applications.<br>\n",
    " - is RESTful interface - A RESTful API is an application program interface (API) that uses HTTP requests to GET, PUT, POST and DELETE data.<br>\n",
    " - more suitable for Client app such as web application.<br>\n",
    " - compatible to  Windows, Linux, Mac-ios, Android mobiles.\n",
    " - Easy replication of a database across multiple server   instances<br>\n",
    " - Fast indexing and retrieval<br>\n",
    " - JSON-based document format (easily translatable across different languages)<br>\n",
    " - Multiple libraries for your language of choice.\n",
    "\n"
   ]
  },
  {
   "cell_type": "markdown",
   "metadata": {},
   "source": [
    "So why should we use __couchdb__?"
   ]
  },
  {
   "cell_type": "markdown",
   "metadata": {},
   "source": [
    "what are your business/ personal needs? <br> when some one picks a databse the concerns are -> <br>\n",
    " - Availability\n",
    " - Consistency\n",
    " - Partition Tolerance "
   ]
  },
  {
   "cell_type": "markdown",
   "metadata": {},
   "source": [
    "CouchDB falls in -> __Availability__ and __Partition Tolerance__(AP camp).<br>\n",
    " - __Partition Tolerance__-replication capabilities, which let us keep data from several locations reliably in sync over an unreliable network. The database can be split over multiple servers.<br>\n",
    " - __Availability__-zero downtime administration and maintenance, built-in data redundancy, and automatic failover. Depending on -><br>\n",
    "     - Number of replicas\n",
    "     - Number of clusters\n",
    "     - Number of racks /availability zones\n",
    "   - __Rack zone awareness__ helps protect against multi-node failure events by separating active data and its replicas across \"groups\" which can then be mapped such that they occupy different racks, zones, or VM hosts. This is still within the context of a single Couchbase Server cluster, and the entire active data set is still evenly distributed across all nodes or groups.<br>\n",
    "\n",
    "Cloudant supports enterprise-level and scalability for CouchDB."
   ]
  },
  {
   "cell_type": "markdown",
   "metadata": {},
   "source": [
    "Website __->__ couchdb.apache.org <br>documentation __->__ docs.couchdb.org/en/stable <br>Developer -> Apache Software Foundation <br>Initial release __->__ 2005 <br>Current release __->__ 3.0, February 2020 <br>Implementation language __->__ Erlang <br>Server operating systems __->__ (Android, BSD, Linux, OS X, Solaris, Windows) <br>Supported programming languages __->__ (C, C#, ColdFusion, Erlang, Haskell, Java, JavaScript, Lisp, Lua, Objective-C, OCaml, Perl, PHP, PL/SQL, Python, Ruby, Smalltalk)"
   ]
  },
  {
   "cell_type": "markdown",
   "metadata": {},
   "source": [
    " __Cons__<br>\n",
    "data integrity, cannot have detailed field structures"
   ]
  },
  {
   "cell_type": "markdown",
   "metadata": {},
   "source": [
    "couchdb uses Multi-Version Concurrency Control (MVCC) to manage concurrent access to the database, Requests are run in parallel. So there is no lock or blocking going on."
   ]
  },
  {
   "cell_type": "markdown",
   "metadata": {},
   "source": [
    "IBM Cloudant is a fully managed database service for hybrid multicloud applications — built on open source Apache CouchDB with a fully compatible API. Sync data to any cloud or to the edge."
   ]
  },
  {
   "cell_type": "code",
   "execution_count": null,
   "metadata": {},
   "outputs": [],
   "source": []
  }
 ],
 "metadata": {
  "kernelspec": {
   "display_name": "Python 3",
   "language": "python",
   "name": "python3"
  },
  "language_info": {
   "codemirror_mode": {
    "name": "ipython",
    "version": 3
   },
   "file_extension": ".py",
   "mimetype": "text/x-python",
   "name": "python",
   "nbconvert_exporter": "python",
   "pygments_lexer": "ipython3",
   "version": "3.7.4"
  }
 },
 "nbformat": 4,
 "nbformat_minor": 4
}
